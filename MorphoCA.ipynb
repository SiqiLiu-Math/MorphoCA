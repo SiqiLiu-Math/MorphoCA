{
 "cells": [
  {
   "cell_type": "markdown",
   "id": "7c688b41",
   "metadata": {},
   "source": [
    "# MorphoCA codes"
   ]
  },
  {
   "cell_type": "markdown",
   "id": "36f91ef2",
   "metadata": {},
   "source": [
    "This is the code for MorphoCA model simulations and visualization.\n",
    "## Step 0: import libs"
   ]
  },
  {
   "cell_type": "code",
   "execution_count": 1,
   "id": "48aeeabc",
   "metadata": {},
   "outputs": [],
   "source": [
    "import numpy as np\n",
    "import matplotlib.pyplot as plt\n",
    "from ipywidgets import interactive, interact, fixed\n",
    "import ipywidgets as widgets"
   ]
  },
  {
   "cell_type": "markdown",
   "id": "23cd2974",
   "metadata": {},
   "source": [
    "## Step 1: Delaunay Triangulation\n",
    "\n",
    "Input variables:\n",
    "- *nx*: is a $1*N_C$ array, each element represents the x coordinate of the node\n",
    "- *ny*: is a $1*N_C$ array, each element represents the y coordinate of the node\n",
    "- *nw*: is a $1*N_C$ array, each element represents the weight of the node\n",
    "\n",
    "Output variables:\n",
    "- *ids*: is a matrix with 2 rows and $N_M$ (number of membranes) columns, each column gives the two cell IDs that the cells are adjacent and form the membrane\n",
    "- *xx*: is a $2*N_M$ matrix, each colum gives two x coordinates for the membrane ends\n",
    "- *yy*: is a $2*N_M$ matrix, each colum gives two y coordinates for the membrane ends"
   ]
  },
  {
   "cell_type": "code",
   "execution_count": 2,
   "id": "2ebb6180",
   "metadata": {},
   "outputs": [],
   "source": [
    "def DeTri(nx, ny, nw):\n",
    "    cellnum = len(nx)\n",
    "    ut = np.triu(np.ones((cellnum, cellnum)), 1)\n",
    "    id1 = np.ones((cellnum, 1)) * np.arange(1, cellnum + 1)\n",
    "    id2 = id1.T\n",
    "    id1 = id1[ut > 0].astype(int) - 1\n",
    "    id2 = id2[ut > 0].astype(int) - 1\n",
    "    nx1 = nx[id1]\n",
    "    ny1 = ny[id1]\n",
    "    nw1 = nw[id1]\n",
    "    nx2 = nx[id2]\n",
    "    ny2 = ny[id2]\n",
    "    nw2 = nw[id2]\n",
    "    dx = nx1 - nx2\n",
    "    dy = ny1 - ny2\n",
    "    dw = nw1**2 - nw2**2\n",
    "    dl = np.sqrt(dx**2 + dy**2)\n",
    "    mx = (nx1 + nx2) / 2\n",
    "    my = (ny1 + ny2) / 2\n",
    "    mx = mx - dw * dx / (2 * dl**2)\n",
    "    my = my - dw * dy / (2 * dl**2)\n",
    "    d0 = (mx - nx1)**2 + (my - ny1)**2 - nw1**2\n",
    "    a = (dy*(nx.reshape(-1,1)-mx) - dx*(ny.reshape(-1,1)-my)) / dl\n",
    "    b = (mx-nx.reshape(-1,1))**2 + (my-ny.reshape(-1,1))**2 - (nw.reshape(-1,1)**2)\n",
    "    b = b - d0\n",
    "    j1 = (id1 * len(id1)) + np.arange(len(id1))\n",
    "    j2 = (id2 * len(id2)) + np.arange(len(id2))\n",
    "    a.flat[j1] = 1\n",
    "    a.flat[j2] = -1\n",
    "    md = np.sqrt(np.maximum(-d0, 0))\n",
    "    b.flat[j1] = md*2\n",
    "    b.flat[j2] = md*2\n",
    "    j0 = np.where(a==0)\n",
    "    a[j0] = 1\n",
    "    b[j0] = np.sign(b[j0])*np.max(md)*2\n",
    "    c = b/a/2\n",
    "    \n",
    "    ap = (a > 0)\n",
    "    am = (a < 0)\n",
    "    cp = ap * c + (~ap) * md\n",
    "    cm = am * c - (~am) * md\n",
    "    cp0 = np.min(cp, axis=0)\n",
    "    cm0 = np.max(cm, axis=0)\n",
    "    jj = np.where(cp0 - cm0 > 0)[0]\n",
    "\n",
    "    vx = dy[jj] / dl[jj]\n",
    "    vy = -dx[jj] / dl[jj]\n",
    "    x1 = mx[jj] + vx * cp0[jj]\n",
    "    x2 = mx[jj] + vx * cm0[jj]\n",
    "    y1 = my[jj] + vy * cp0[jj]\n",
    "    y2 = my[jj] + vy * cm0[jj]\n",
    "    xx = np.vstack((x1, x2))\n",
    "    yy = np.vstack((y1, y2))\n",
    "    ids = np.vstack((id1[jj], id2[jj]))\n",
    "\n",
    "    return ids, xx, yy"
   ]
  },
  {
   "cell_type": "markdown",
   "id": "4b61c362",
   "metadata": {},
   "source": [
    "## Step 2: compute cell boundaries\n",
    "\n",
    "Input variables:\n",
    "- *nx*\n",
    "- *ny*\n",
    "- *nw*\n",
    "\n",
    "Output variables:\n",
    "- *arcends*: is a matrix with 2 rows and multiple columns, each column includes the two angles of the boundary arc ends\n",
    "- *arcid*: is an array with the same column number as *arcends*, each element represents the cell IDs that the arc belongs to"
   ]
  },
  {
   "cell_type": "code",
   "execution_count": 3,
   "id": "3b7937ed",
   "metadata": {},
   "outputs": [],
   "source": [
    "def BoundaryCircle(nx,ny,nw):\n",
    "    cellnum = len(nx)\n",
    "    nx1 = np.tile(nx,(cellnum,1))\n",
    "    ny1 = np.tile(ny,(cellnum,1))\n",
    "    nw1 = np.tile(nw,(cellnum,1))\n",
    "    nx2 = nx1.T\n",
    "    ny2 = ny1.T\n",
    "    nw2 = nw1.T\n",
    "    dx = nx1-nx2\n",
    "    dy = ny1-ny2\n",
    "    dw = nw1**2-nw2**2\n",
    "    dl = np.sqrt(dx**2+dy**2)+np.eye(cellnum);\n",
    "    ds = (dl+dw/dl)/2\n",
    "    dz = np.sqrt(np.maximum(nw1**2-ds**2,0))\n",
    "    \n",
    "    ag0 = np.arctan2(dy,dx)\n",
    "    ag1 = np.arctan2(dz,ds)\n",
    "    ag1 = ag1*(1-np.eye(cellnum))\n",
    "    ags = np.tile(ag0,(6,1))+np.concatenate((-ag1-2*np.pi,-ag1,-ag1+2*np.pi,ag1-2*np.pi,ag1,ag1+2*np.pi))\n",
    "    ags = np.minimum(np.maximum(ags,-np.pi),np.pi)\n",
    "    bb = np.sort(ags,axis=0)\n",
    "    cc = (np.argsort(ags,axis=0)>cellnum*3-1)\n",
    "    e0 = np.arange(0, 6*cellnum-1, 2)\n",
    "    \n",
    "    arcend0 = np.array([])\n",
    "    arcend1 = np.array([])\n",
    "    arcid = np.array([])\n",
    "    for ii in range(cellnum):\n",
    "        c0 = np.where(cc[:,ii]==0)[0]\n",
    "        c1 = np.where(cc[:,ii]==1)[0]\n",
    "        c0i = np.where(c0-e0==0)[0]\n",
    "        c1i = np.where(c1-e0==1)[0]\n",
    "        c0 = c0[c0i]\n",
    "        c1 = c1[c1i]\n",
    "        b0 = bb[c0,ii]\n",
    "        b1 = bb[c1,ii]\n",
    "        jj = np.where(b1 - b0 > 0)[0]\n",
    "        b1 = np.concatenate(([-np.pi], b1[jj]))\n",
    "        b0 = np.concatenate((b0[jj], [np.pi]))\n",
    "        jj = np.where(b1 - b0 < 0)[0]\n",
    "        arcend0 = np.hstack((arcend0,b1[jj]))\n",
    "        arcend1 = np.hstack((arcend1,b0[jj]))\n",
    "        arcid = np.hstack((arcid,np.tile(ii,len(jj))))\n",
    "    arcends = np.vstack((arcend0,arcend1))\n",
    "    arcid = arcid.astype(int)\n",
    "    \n",
    "    return arcends, arcid"
   ]
  },
  {
   "cell_type": "markdown",
   "id": "40279291",
   "metadata": {},
   "source": [
    "## Step 3: plot cells\n",
    "\n",
    "Input variables:\n",
    "- *nx*\n",
    "- *ny*\n",
    "- *nw*\n",
    "- *xx*\n",
    "- *yy*\n",
    "- *arcends*\n",
    "- *arcid*\n",
    "\n",
    "Output figure:\n",
    "- Cell shapes given by the black lines (membrane between adjacent cells) and arcs (boundary membranes)"
   ]
  },
  {
   "cell_type": "code",
   "execution_count": 4,
   "id": "599140ce",
   "metadata": {},
   "outputs": [],
   "source": [
    "def PlotCells(nx,ny,nw,ids,xx,yy,arcends,arcid,xlim,ylim,dual):\n",
    "    cellnum = len(nx)\n",
    "    nxc = nx[arcid]\n",
    "    nyc = ny[arcid]\n",
    "    nwc = nw[arcid]\n",
    "    darc = arcends[1,:]-arcends[0,:]\n",
    "    ags = np.tile(darc,(100,1)) * np.tile(np.linspace(0,1,100),(len(darc),1)).T + arcends[0,:]\n",
    "    xc = nxc - np.cos(ags)*nwc\n",
    "    yc = nyc - np.sin(ags)*nwc\n",
    "    plt.figure\n",
    "    plt.plot(xx,yy,color='black')\n",
    "    plt.plot(xc,yc,color='black')\n",
    "    plt.xlim(xlim)\n",
    "    plt.ylim(ylim)\n",
    "    plt.gca().set_aspect('equal')\n",
    "    if dual:\n",
    "        plt.plot(nx[ids],ny[ids],color='blue')\n",
    "    plt.show()"
   ]
  },
  {
   "cell_type": "markdown",
   "id": "41d6ce9f",
   "metadata": {},
   "source": [
    "## Example: plot four cells"
   ]
  },
  {
   "cell_type": "code",
   "execution_count": 5,
   "id": "20dd4c4c",
   "metadata": {
    "scrolled": false
   },
   "outputs": [
    {
     "data": {
      "image/png": "[encoded data removed]",
      "text/plain": [
       "<Figure size 640x480 with 1 Axes>"
      ]
     },
     "metadata": {},
     "output_type": "display_data"
    }
   ],
   "source": [
    "nx = np.array([11,10,3.0,13])\n",
    "ny = np.array([15,25,35.0,28])\n",
    "nw = np.array([10,11,10.0,12])\n",
    "ids, xx, yy = DeTri(nx,ny,nw)\n",
    "arcends, arcid = BoundaryCircle(nx,ny,nw)\n",
    "PlotCells(nx,ny,nw,ids,xx,yy,arcends,arcid,[-40,40],[-20,60],False)"
   ]
  },
  {
   "cell_type": "markdown",
   "id": "73055be4",
   "metadata": {},
   "source": [
    "## Step 4: compute adjacency matrix\n",
    "\n",
    "Input variables:\n",
    "- *nx*\n",
    "- *ny*\n",
    "- *nw*\n",
    "- *ids*\n",
    "- *xx*\n",
    "- *yy*\n",
    "- *arcends*\n",
    "- *arcid*\n",
    "\n",
    "Output variables:\n",
    "- *adj*: the $N_C*N_C$ adjacency matrix, the element is non-zero if the two cells are adjacent, the value represents the membrane length\n",
    "- *ang*: a $N_C*N_C$ matrix, the $(i,j)$ element represent the angle of the membrane's normal vector towards cell $i$\n",
    "- *vol*: a $1*N_C$ array, each element represents the volume of the cell"
   ]
  },
  {
   "cell_type": "code",
   "execution_count": 6,
   "id": "fdc684eb",
   "metadata": {},
   "outputs": [],
   "source": [
    "def Adjacency(nx,ny,nw,ids,xx,yy,arcends,arcid):\n",
    "    cellnum = len(nx)\n",
    "    adj = np.zeros((cellnum,cellnum))\n",
    "    ang = np.zeros((cellnum,cellnum))\n",
    "    vol = np.zeros(cellnum)\n",
    "    dl = np.sqrt((xx[1,:]-xx[0,:])**2 + (yy[1,:]-yy[0,:])**2)\n",
    "    dx = nx[ids[0,:]]-nx[ids[1,:]]\n",
    "    dy = ny[ids[0,:]]-ny[ids[1,:]]\n",
    "    ag = np.arctan2(dy,dx)\n",
    "    k1 = (ids[0,:] * cellnum) + ids[1,:]\n",
    "    k2 = (ids[1,:] * cellnum) + ids[0,:]\n",
    "    adj.flat[k1] = dl\n",
    "    adj.flat[k2] = dl\n",
    "    ang.flat[k1] = ag\n",
    "    ang.flat[k2] = ag-np.pi\n",
    "    \n",
    "    for ii in range(len(arcid)):\n",
    "        vol[arcid[ii]] += .5*(arcends[1,ii]-arcends[0,ii])*nw[arcid[ii]]**2\n",
    "    for ii in range(len(ids[0,:])):\n",
    "        cid = ids[:,ii]\n",
    "        dx0 = xx[0,ii]-nx[cid]\n",
    "        dx1 = xx[1,ii]-nx[cid]\n",
    "        dy0 = yy[0,ii]-ny[cid]\n",
    "        dy1 = yy[1,ii]-ny[cid]\n",
    "        vv = (dx0*dy1-dx1*dy0)/2\n",
    "        vol[cid[0]] -= vv[0]\n",
    "        vol[cid[1]] += vv[1]\n",
    "    \n",
    "    return adj, ang, vol"
   ]
  },
  {
   "cell_type": "markdown",
   "id": "43f9d674",
   "metadata": {},
   "source": [
    "## Step 5: function of sensor\n",
    "\n",
    "Input variables:\n",
    "- *M*: the molecule matrix of $N_C$ columns and $N_{mol}$ (number of molecules) rows. Each element is between 0 and 1\n",
    "- *adj*: the adjacency matrix\n",
    "- *ang*: the adjacent-angel matrix\n",
    "\n",
    "Output variables:\n",
    "- *gMx*: the x-gradiant of molecules from neighbor, the matrix size is $N_{mol}*N_C$\n",
    "- *gMy*: the y-gradiant of molecules from neighbor, the matrix size is $N_{mol}*N_C$\n",
    "- *sM*: the sum of molecule information from neighbor, the matrix size is $N_{mol}*N_C$"
   ]
  },
  {
   "cell_type": "code",
   "execution_count": 7,
   "id": "fd99cd0d",
   "metadata": {},
   "outputs": [],
   "source": [
    "def Sensor(M,adj,ang):\n",
    "    molnum = len(M[:,0])\n",
    "    cellnum = len(M[0,:])\n",
    "    adj0 = np.sign(adj)\n",
    "    gMx = np.zeros((molnum,cellnum))\n",
    "    gMy = np.zeros((molnum,cellnum))\n",
    "    dMx = np.zeros((molnum,cellnum))\n",
    "    dMy = np.zeros((molnum,cellnum))\n",
    "    sM = np.zeros((molnum,cellnum))\n",
    "    for ii in range(molnum):\n",
    "        gMx[ii,:] = np.sum(M[ii,:]*adj*np.cos(ang),axis=1)\n",
    "        gMy[ii,:] = np.sum(M[ii,:]*adj*np.sin(ang),axis=1)\n",
    "        dMx[ii,:] = np.sum(M[ii,:]*adj0*np.cos(ang),axis=1)\n",
    "        dMy[ii,:] = np.sum(M[ii,:]*adj0*np.sin(ang),axis=1)\n",
    "        sM[ii,:] = np.sum(M[ii,:]*adj,axis=1)\n",
    "    \n",
    "    return gMx, gMy, dMx, dMy, sM"
   ]
  },
  {
   "cell_type": "markdown",
   "id": "5ae9c16c",
   "metadata": {},
   "source": [
    "## Step 6: function of controller\n",
    "\n",
    "Input variables:\n",
    "- *M*\n",
    "- *nx*\n",
    "- *ny*\n",
    "- *nw*\n",
    "- *vol*\n",
    "\n",
    "Output variables:\n",
    "- *nx*: the updated x-coordinate of nodes\n",
    "- *ny*: the updated y-coordinate of nodes\n",
    "- *nw*: the updated weight of nodes\n",
    "\n",
    "Function parameters:\n",
    "- *dx*, *dy*: moving steps of nodes\n",
    "- *dw*: changes steps of weights\n",
    "- *v0*: the target cell volume"
   ]
  },
  {
   "cell_type": "code",
   "execution_count": 8,
   "id": "c8304c7f",
   "metadata": {},
   "outputs": [],
   "source": [
    "def Controller(M,nx,ny,nw,vol):\n",
    "    dx = 0.2\n",
    "    dy = 0.2\n",
    "    dw = 0.2\n",
    "    v0 = 250\n",
    "    nx += (M[2,:]-.5)*dx\n",
    "    ny += (M[3,:]-.5)*dy\n",
    "    nw += ((v0-vol)/v0+(M[4,:]-.5))*dw\n",
    "    \n",
    "    return nx, ny, nw"
   ]
  },
  {
   "cell_type": "markdown",
   "id": "bfeea195",
   "metadata": {},
   "source": [
    "## Step 7: CA updating rules\n",
    "\n",
    "Input variables:\n",
    "- *M*: the molecule matrix of $N_C$ columns and $N_{mol}$ (number of molecules) rows. Each element is between 0 and 1\n",
    "- *gMx*: the x-gradiant of molecules from neighbor, the matrix size is $N_{mol}*N_C$\n",
    "- *gMy*: the y-gradiant of molecules from neighbor, the matrix size is $N_{mol}*N_C$\n",
    "- *sM*: the sum of molecule information from neighbor, the matrix size is $N_{mol}*N_C$\n",
    "\n",
    "Output variables:\n",
    "- *M*: the updated molecule matrix"
   ]
  },
  {
   "cell_type": "code",
   "execution_count": 9,
   "id": "cb805be0",
   "metadata": {},
   "outputs": [],
   "source": [
    "def AutomataRule(M,gMx,gMy,dMx,dMy,sM):\n",
    "    M[2,:] = (gMx[0,:]-10*dMx[0,:])*0.1+0.5\n",
    "    M[3,:] = (gMy[0,:]-10*dMy[0,:])*0.1+0.5\n",
    "    M = 1/(1+np.exp(.5-M))\n",
    "    return M"
   ]
  },
  {
   "cell_type": "markdown",
   "id": "7e0b8126",
   "metadata": {},
   "source": [
    "## Example: cell movement\n",
    "\n",
    "Setup:\n",
    "- *nx*: initial x-coordinate of nodes\n",
    "- *ny*: initial y-coordinate of nodes\n",
    "- *nw*: initial weight of nodes\n",
    "- *M*: initial molecule levels\n",
    "- *timenum*: number of time steps\n",
    "\n",
    "Results:\n",
    "- *nxs*: the dynamics of *nx*, each row is *nx* at one time step\n",
    "- *nys*: the dynamics of *ny*, each row is *ny* at one time step\n",
    "- *nws*: the dynamics of *nw*, each row is *nw* at one time step"
   ]
  },
  {
   "cell_type": "code",
   "execution_count": 10,
   "id": "589b5863",
   "metadata": {},
   "outputs": [],
   "source": [
    "def CellInitial(cx,cy):\n",
    "    nx = np.arange(cx)\n",
    "    ny = np.arange(cy)\n",
    "    nx = np.tile(nx,(cy,1))\n",
    "    ny = np.tile(ny,(cx,1))\n",
    "    nx = np.reshape(nx,cx*cy)\n",
    "    ny = np.reshape(ny.T,cx*cy)\n",
    "    nx = np.random.rand(cx*cy)*3+nx*10\n",
    "    ny = np.random.rand(cx*cy)*3+ny*10\n",
    "    nw = np.random.rand(cx*cy)*3+10\n",
    "    return nx, ny, nw"
   ]
  },
  {
   "cell_type": "code",
   "execution_count": 11,
   "id": "de37162f",
   "metadata": {},
   "outputs": [],
   "source": [
    "nx,ny,nw = CellInitial(3,4)\n",
    "\n",
    "cellnum = len(nx)\n",
    "timenum = 8000\n",
    "nxs = np.zeros((timenum,cellnum))\n",
    "nys = np.zeros((timenum,cellnum))\n",
    "nws = np.zeros((timenum,cellnum))\n",
    "nxs[0,:] = nx\n",
    "nys[0,:] = ny\n",
    "nws[0,:] = nw\n",
    "M = np.ones((5,cellnum))*0.5\n",
    "for ii in range(timenum-1):\n",
    "    ids, xx, yy = DeTri(nx,ny,nw)\n",
    "    arcends, arcid = BoundaryCircle(nx,ny,nw)\n",
    "    adj,ang,vol = Adjacency(nx,ny,nw,ids,xx,yy,arcends,arcid)\n",
    "    gMx,gMy,dMx,dMy,sM = Sensor(M,adj,ang)\n",
    "    M = AutomataRule(M,gMx,gMy,dMx,dMy,sM)\n",
    "    nx,ny,nw = Controller(M,nx,ny,nw,vol)\n",
    "    nxs[ii+1,:] = nx\n",
    "    nys[ii+1,:] = ny\n",
    "    nws[ii+1,:] = nw\n"
   ]
  },
  {
   "cell_type": "markdown",
   "id": "9d6e4757",
   "metadata": {},
   "source": [
    "### The interactive visualization\n",
    "\n",
    "Move the slider to change time."
   ]
  },
  {
   "cell_type": "code",
   "execution_count": 12,
   "id": "dc284615",
   "metadata": {},
   "outputs": [
    {
     "data": {
      "application/vnd.jupyter.widget-view+json": {
       "model_id": "e96020e3e33346af8bfcac0c8be97fbe",
       "version_major": 2,
       "version_minor": 0
      },
      "text/plain": [
       "interactive(children=(IntSlider(value=0, description='t', max=7999), IntRangeSlider(value=(-40, 60), descripti…"
      ]
     },
     "metadata": {},
     "output_type": "display_data"
    }
   ],
   "source": [
    "def MorphoShape(t,xlim,ylim,dual):\n",
    "    nx = nxs[t,:]\n",
    "    ny = nys[t,:]\n",
    "    nw = nws[t,:]\n",
    "    ids, xx, yy = DeTri(nx,ny,nw)\n",
    "    arcends, arcid = BoundaryCircle(nx,ny,nw)\n",
    "    PlotCells(nx,ny,nw,ids,xx,yy,arcends,arcid,xlim,ylim,dual)\n",
    "\n",
    "interact(\n",
    "    MorphoShape,\n",
    "    t=widgets.IntSlider(min=0,max=timenum-1,step=1,value=0),\n",
    "    xlim=widgets.IntRangeSlider(min=-100,max=100,step=1,value=[-40,60]),\n",
    "    ylim=widgets.IntRangeSlider(min=-100,max=100,step=1,value=[-30,70]),\n",
    "    dual = widgets.Checkbox(value=False)\n",
    ");"
   ]
  },
  {
   "cell_type": "code",
   "execution_count": 13,
   "id": "bba39530",
   "metadata": {},
   "outputs": [
    {
     "name": "stdout",
     "output_type": "stream",
     "text": [
      "[250.00165957 250.00707628 250.00489973 250.01034652 250.02211224\n",
      " 250.00776728 250.01919689 250.02053351 250.02193272 250.01235133\n",
      " 250.01544788 250.00320437]\n"
     ]
    }
   ],
   "source": [
    "print(vol)"
   ]
  },
  {
   "cell_type": "code",
   "execution_count": null,
   "id": "e72ebdf4",
   "metadata": {},
   "outputs": [],
   "source": []
  }
 ],
 "metadata": {
  "kernelspec": {
   "display_name": "Python 3 (ipykernel)",
   "language": "python",
   "name": "python3"
  },
  "language_info": {
   "codemirror_mode": {
    "name": "ipython",
    "version": 3
   },
   "file_extension": ".py",
   "mimetype": "text/x-python",
   "name": "python",
   "nbconvert_exporter": "python",
   "pygments_lexer": "ipython3",
   "version": "3.11.5"
  }
 },
 "nbformat": 4,
 "nbformat_minor": 5
}
